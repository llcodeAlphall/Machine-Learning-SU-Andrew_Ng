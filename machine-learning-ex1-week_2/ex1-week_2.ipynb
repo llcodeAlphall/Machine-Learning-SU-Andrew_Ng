{
 "cells": [
  {
   "cell_type": "markdown",
   "metadata": {
    "_uuid": "fa465f85626c9d2029f7f0c5830ad4b0d5cf77c7"
   },
   "source": [
    "# Linear regression"
   ]
  },
  {
   "cell_type": "markdown",
   "metadata": {
    "_uuid": "913efe8b98354fb7caa6c3f664d10a45bc38d123"
   },
   "source": [
    "## 1. Linear regression with 1 variable"
   ]
  },
  {
   "cell_type": "markdown",
   "metadata": {
    "_uuid": "7d39787ea5813c846b27cf0b3e1ab4240de26c60"
   },
   "source": [
    "####  Import header files"
   ]
  },
  {
   "cell_type": "code",
   "execution_count": null,
   "metadata": {
    "_uuid": "6ad3c3f0b7849d0e4e344d8c22da19cfb1193bb3"
   },
   "outputs": [],
   "source": [
    "import warnings\n",
    "warnings.filterwarnings('ignore')\n",
    "import pandas as pd\n",
    "import numpy as np"
   ]
  },
  {
   "cell_type": "markdown",
   "metadata": {
    "_uuid": "e2f701a2c4ad081aa4c6cd0ab8fccc8194857054"
   },
   "source": [
    "### 1.1 Working with data"
   ]
  },
  {
   "cell_type": "markdown",
   "metadata": {
    "_uuid": "5bfc6f2dccbe2d1204ce2838cb0f8acb5fc3446e"
   },
   "source": [
    "#### 1.1.a Read/Import data"
   ]
  },
  {
   "cell_type": "code",
   "execution_count": null,
   "metadata": {
    "_uuid": "9277e23bacf36509a3f14ce22e452e27b9201c61"
   },
   "outputs": [],
   "source": [
    "import os\n",
    "print(os.listdir(\"dataset/\"))"
   ]
  },
  {
   "cell_type": "code",
   "execution_count": null,
   "metadata": {
    "_uuid": "4d86c62be8905c40d7e7c59437308b4ac593ff5d"
   },
   "outputs": [],
   "source": [
    "# about the dataset\n",
    "# Goto: https://www.kaggle.com/baiazid/coursera-machine-learning-su-ex1\n",
    "\n",
    "df = pd.read_csv('dataset/week_1-ex_1.txt',header=None,names=('polpulation/1000','profit/1000'))\n",
    "# The first column represents city population (* 10,000 to get the real value) \n",
    "# The second column represents profit of a food truck (* 10,000 to get the real value)\n",
    "\n",
    "# First some context on the problem statement. Here we will implement linear regression with one variable \n",
    "# to predict profits for a food truck. Suppose you are the CEO of a restaurant franchise and are considering\n",
    "# different cities for opening a new outlet. The chain already has trucks in various cities and you have data\n",
    "# for profits and populations from the cities. The file ex1data1.txt (available under week 2's assignment material)\n",
    "# contains the dataset for our linear regression exercise. The first column is the population of a city and the \n",
    "# second column is the profit of a food truck in that city. A negative value for profit indicates a loss."
   ]
  },
  {
   "cell_type": "markdown",
   "metadata": {
    "_uuid": "a6158ffcce7b4cf11c01dc8ad816b3844a94fbd8"
   },
   "source": [
    "#### 1.1.b Analize the data"
   ]
  },
  {
   "cell_type": "code",
   "execution_count": null,
   "metadata": {
    "_uuid": "cbbdab9520855eb913468333b487a12d06888b2b"
   },
   "outputs": [],
   "source": [
    "print(df.head())\n",
    "print(df.shape)\n",
    "m=df.shape[0]"
   ]
  },
  {
   "cell_type": "code",
   "execution_count": null,
   "metadata": {
    "_uuid": "d215a883bad93b18984e512e6afaff73531f58cf"
   },
   "outputs": [],
   "source": [
    "X = df.iloc[:,0]\n",
    "y = df.iloc[:,1]"
   ]
  },
  {
   "cell_type": "markdown",
   "metadata": {
    "_uuid": "4ed3cdf2c3b462b5443a8615d1fa49a0b64a581f"
   },
   "source": [
    "#### 1.1.c Plot the data"
   ]
  },
  {
   "cell_type": "code",
   "execution_count": null,
   "metadata": {
    "_uuid": "981c9b265516fe50cfa8161c61c7274bc243bf00"
   },
   "outputs": [],
   "source": [
    "import matplotlib.pyplot as plt\n",
    "plt.scatter(X,y)\n",
    "plt.xlabel('Population of City in 10,000s')\n",
    "plt.ylabel('Profit in $10,000s')\n",
    "plt.show()"
   ]
  },
  {
   "cell_type": "markdown",
   "metadata": {
    "_uuid": "e2b528edbdfe03a2276acc335de9ba1561e08263"
   },
   "source": [
    "### 1.2 Crux of Linear Regression in 1 variable"
   ]
  },
  {
   "cell_type": "code",
   "execution_count": null,
   "metadata": {
    "_uuid": "8a0561a6915e9b2dcd4ec216dfc8d22d0fb9c7a9"
   },
   "outputs": [],
   "source": [
    "# How to display images in ipython notebook\n",
    "# Goto: https://stackoverflow.com/questions/11854847/how-can-i-display-an-image-from-a-file-in-jupyter-notebook\n",
    "from IPython.display import Image, display\n",
    "\n",
    "#listOfImageNames = ['C:/Users/saxenapriyansh/Desktop/linear_reg-1var-hypothesis.PNG',\n",
    "#                    'C:/Users/saxenapriyansh/Desktop/linear_reg-1var-cost_function.PNG',\n",
    "#                    'C:/Users/saxenapriyansh/Desktop/linear_reg-1var-gradient_descent.PNG']\n",
    "\n",
    "#for imageName in listOfImageNames:\n",
    "#    display(Image(filename=imageName))"
   ]
  },
  {
   "cell_type": "markdown",
   "metadata": {
    "_uuid": "d0778fd75fc294fdd555d336a4162edc1f84636f"
   },
   "source": [
    "### 1.3 Algorithm"
   ]
  },
  {
   "cell_type": "markdown",
   "metadata": {
    "_uuid": "5adbd899a81abb5210eb90105a519983ecae90fe"
   },
   "source": [
    "#### 1.3.a Adding intercept term"
   ]
  },
  {
   "cell_type": "code",
   "execution_count": null,
   "metadata": {
    "_uuid": "9e418384b361e861e3314a5845b3b38c9af053b4"
   },
   "outputs": [],
   "source": [
    "# In the following lines, we add another dimension to our data to accommodate the intercept term \n",
    "# (the reason for doing this is explained in the videos). We also initialize the initial parameters\n",
    "# theta to 0 and the learning rate alpha to 0.01."
   ]
  },
  {
   "cell_type": "code",
   "execution_count": null,
   "metadata": {
    "_uuid": "039fee861f6040d16341475a4f8b27a90ff4c98b"
   },
   "outputs": [],
   "source": [
    "# newaxis is used to increase the dimension of the existing array by one more dimension, when used once. Thus,\n",
    "# 1D array will become 2D array\n",
    "# 2D array will become 3D array\n",
    "# 3D array will become 4D array\n",
    "# and so on.\n",
    "\n",
    "# Goto: https://stackoverflow.com/questions/29241056/how-does-numpy-newaxis-work-and-when-to-use-it"
   ]
  },
  {
   "cell_type": "code",
   "execution_count": null,
   "metadata": {
    "_uuid": "bea605844db34705c775e09d8f2b9655bc2d720c"
   },
   "outputs": [],
   "source": [
    "import numpy as np\n",
    "X = X[:,np.newaxis]\n",
    "y = y[:,np.newaxis]\n",
    "theta = np.zeros([2,1])\n",
    "iterations = 1500\n",
    "alpha = 0.01\n",
    "# hstach - Stack arrays in sequence horizontally (column wise)\n",
    "# for more info on hstack\n",
    "# Goto: https://docs.scipy.org/doc/numpy/reference/generated/numpy.hstack.html\n",
    "X = np.hstack((np.ones((m,1)), X))"
   ]
  },
  {
   "cell_type": "code",
   "execution_count": null,
   "metadata": {
    "_uuid": "0f1d616208c75a8b6bab7cd11f7f3748b1696107"
   },
   "outputs": [],
   "source": [
    "# New shape of X,y \n",
    "print(X.shape)\n",
    "print(X[0:5,:])\n",
    "print(\"***--***\")\n",
    "print(y.shape)\n",
    "print(y[0:5,:])"
   ]
  },
  {
   "cell_type": "markdown",
   "metadata": {
    "_uuid": "3fcd1afc5b57ac22f8655ba8b96f8ab0369289c8"
   },
   "source": [
    "#### 1.3.b Computing the cost"
   ]
  },
  {
   "cell_type": "code",
   "execution_count": null,
   "metadata": {
    "_uuid": "8eb74dbcc91acbcb8214cff15c062e515a927920"
   },
   "outputs": [],
   "source": [
    "# for more info on np.dot\n",
    "# Goto: https://docs.scipy.org/doc/numpy-1.15.0/reference/generated/numpy.dot.html\n",
    "\n",
    "# for more info on numpy.square\n",
    "# Goto: https://docs.scipy.org/doc/numpy/reference/generated/numpy.square.html\n",
    "\n",
    "# for more info on numpy.sum\n",
    "# Goto: https://docs.scipy.org/doc/numpy-1.15.1/reference/generated/numpy.sum.html#numpy.sum\n",
    "\n",
    "def computeCost(X, y, theta):\n",
    "    temp = np.dot(X,theta) - y\n",
    "    return np.sum(np.square(temp))/(2*m)\n",
    "J = computeCost(X,y,theta)\n",
    "print(J)"
   ]
  },
  {
   "cell_type": "markdown",
   "metadata": {
    "_uuid": "c69ed72e29fc3815a91ec4a68bc31216cccf6a09"
   },
   "source": [
    "#### 1.3.c Gradient Descent - finding optimal parameters"
   ]
  },
  {
   "cell_type": "code",
   "execution_count": null,
   "metadata": {
    "_uuid": "4bd07bf7993dd0b5be9c2a91deb40365225b3976"
   },
   "outputs": [],
   "source": [
    "# Initial value of theta :\n",
    "print(theta)"
   ]
  },
  {
   "cell_type": "code",
   "execution_count": null,
   "metadata": {
    "_uuid": "998f2e6c5ca97996dea2490ac72471b368958058"
   },
   "outputs": [],
   "source": [
    "# more about ' - ' : Goto: https://hackernoon.com/understanding-the-underscore-of-python-309d1a029edc\n",
    "def gradientDescent(theta, X, y, aplha, iterations):    \n",
    "    \n",
    "    # theta_vals, J_vals stores the intermediate values of theta and J during optimiztion usng gradient descent\n",
    "    theta_vals=np.full([1,2],0)\n",
    "    J_vals = np.full([1],computeCost(X,y,theta))\n",
    "    \n",
    "    for _ in range(iterations):\n",
    "        theta = theta - (aplha/m)*np.dot(X.T,(np.dot(X, theta) - y))        \n",
    "        theta_vals = np.vstack((theta_vals,theta.T))\n",
    "        J_vals = np.vstack((J_vals,computeCost(X, y, theta)))\n",
    "    return [theta_vals,J_vals]\n",
    "\n",
    "\n",
    "(theta_vals,J_vals) = gradientDescent(theta, X, y, alpha, iterations)\n",
    "theta = np.reshape(theta_vals[-1],[2,1])\n",
    "# theta after optimizing\n",
    "print(\"Theta: \",theta)"
   ]
  },
  {
   "cell_type": "code",
   "execution_count": null,
   "metadata": {
    "_uuid": "8d1e6d24b275c16cd164d7c73eefa4d2b051ac3b"
   },
   "outputs": [],
   "source": [
    "print(theta)\n",
    "# After finding optimum value of theta, find the new cost\n",
    "J = computeCost(X,y,theta)\n",
    "print(J)"
   ]
  },
  {
   "cell_type": "markdown",
   "metadata": {
    "_uuid": "e90c3af157e8b693307695b429c2fe909a33ea40"
   },
   "source": [
    "#### 1.3.d Plot the best fit line"
   ]
  },
  {
   "cell_type": "code",
   "execution_count": null,
   "metadata": {
    "_uuid": "9186b5ba1d4cc816007e0f12ff8d4f4e592460e2"
   },
   "outputs": [],
   "source": [
    "plt.scatter(X[:,1], y) # plt.scatter plots only the points\n",
    "plt.plot(X[:,1], np.dot(X, theta),'r') # plt.plot draws a line\n",
    "plt.xlabel('Population of City in 10,000s')\n",
    "plt.ylabel('Profit in $10,000s')\n",
    "plt.show()"
   ]
  },
  {
   "cell_type": "code",
   "execution_count": null,
   "metadata": {
    "_uuid": "76cbd49aaaa4ca84b41168139de7f0b518cfc5fe"
   },
   "outputs": [],
   "source": [
    "# Plotly - one stop for all plots, visualizations, animations etc\n",
    "# Goto: https://plot.ly/python/\n",
    "\n",
    "import plotly\n",
    "plotly.tools.set_credentials_file(username='enter_your_details_here', api_key='8tUzNDbRW7G2wlH4js1P')\n",
    "\n",
    "import plotly.plotly as py\n",
    "import plotly.graph_objs as go\n",
    "\n",
    "x_val = theta_vals[:,0]\n",
    "y_val = theta_vals[:,1]  \n",
    "z_val = J_vals[:,0]                 \n",
    "\n",
    "line = go.Scatter3d(x=x_val, y=y_val, z=z_val, marker=dict(\n",
    "        size=4,\n",
    "        color=z_val,\n",
    "        colorscale='Viridis',\n",
    "    ),\n",
    "    line=dict(\n",
    "        color='#1f77b4',\n",
    "        width=1\n",
    "    ))\n",
    "data = [line]\n",
    "\n",
    "\n",
    "layout = go.Layout(\n",
    "    title='Theta values vs Cost values',\n",
    "    scene=dict(\n",
    "        xaxis=dict(\n",
    "            title = 'theta 0',\n",
    "            gridcolor='rgb(255, 255, 255)',\n",
    "            zerolinecolor='rgb(255, 255, 255)',\n",
    "            showbackground=True,\n",
    "            backgroundcolor='rgb(230, 230,230)'\n",
    "        ),\n",
    "        yaxis=dict(\n",
    "            title = 'theta 1',\n",
    "            gridcolor='rgb(255, 255, 255)',\n",
    "            zerolinecolor='rgb(255, 255, 255)',\n",
    "            showbackground=True,\n",
    "            backgroundcolor='rgb(230, 230,230)'\n",
    "        ),\n",
    "        zaxis=dict(\n",
    "            title = 'Cost',\n",
    "            gridcolor='rgb(255, 255, 255)',\n",
    "            zerolinecolor='rgb(255, 255, 255)',\n",
    "            showbackground=True,\n",
    "            backgroundcolor='rgb(230, 230,230)'\n",
    "        )\n",
    "    )\n",
    ")\n",
    "\n",
    "fig = go.Figure(data=data, layout=layout)\n",
    "\n",
    "py.iplot(fig, filename='jupyter-parametric_plot')"
   ]
  },
  {
   "cell_type": "markdown",
   "metadata": {
    "_uuid": "97ad90ecb6b62a2afd4be5e5bbd5535778fe774e"
   },
   "source": [
    "## 2. Linear Regression with multiple variables (aka Multivariate linear regression)"
   ]
  },
  {
   "cell_type": "code",
   "execution_count": null,
   "metadata": {
    "_uuid": "265a862ce16785976743b24a9e53220cf7821614"
   },
   "outputs": [],
   "source": [
    "# Problem context: Suppose you are selling your house and you want to know what a good market price would be. \n",
    "# One way to do this is to first collect information on recent houses sold and make a model of housing prices. \n",
    "# Your job is to predict housing prices based on other variables.\n",
    "\n",
    "#The file ex1data2.txt((available under week 2’s assignment material)) contains a training set of housing prices\n",
    "# in Portland, Oregon. The first column is the size of the house (in square feet), the second column is the number \n",
    "# of bedrooms, and the third column is the price of the house.\n",
    "\n",
    "# You already have the necessary infrastructure which we built in our previous section that can be easily \n",
    "# applied to this section as well. Here we will just use the equations which we made in the above section."
   ]
  },
  {
   "cell_type": "markdown",
   "metadata": {
    "_uuid": "2ea046c3e4a9a179e46f6e032f27dd7b7c907691"
   },
   "source": [
    "### 2.1 Working with data"
   ]
  },
  {
   "cell_type": "markdown",
   "metadata": {
    "_uuid": "783ac21708d76dfb276ac311ca7db255c670234b"
   },
   "source": [
    "#### 2.1.a Read/Import data"
   ]
  },
  {
   "cell_type": "code",
   "execution_count": null,
   "metadata": {
    "_uuid": "faad7d4b2590b45f1ceb36fb13513e1af75474bd"
   },
   "outputs": [],
   "source": [
    "df = pd.read_csv('dataset/week_2-ex_1.txt',header=None,names=('size','bedrooms','price(in $)'))"
   ]
  },
  {
   "cell_type": "markdown",
   "metadata": {
    "_uuid": "b62301d01faeea4ca496b8e3ae99cb5ff738a645"
   },
   "source": [
    "#### 2.1.b Analize the data"
   ]
  },
  {
   "cell_type": "code",
   "execution_count": null,
   "metadata": {
    "_uuid": "f7a2f43ed75b8c9e65aad96b04a3c4bc2f888b2a"
   },
   "outputs": [],
   "source": [
    "print(df.head())\n",
    "print(df.shape)\n",
    "m=df.shape[0]\n",
    "n=df.shape[1]"
   ]
  },
  {
   "cell_type": "code",
   "execution_count": null,
   "metadata": {
    "_uuid": "ad7897628eeb94aaa1a01ccf66afaa3af792637e"
   },
   "outputs": [],
   "source": [
    "X = df.iloc[:,0:2]\n",
    "y = df.iloc[:,2]"
   ]
  },
  {
   "cell_type": "markdown",
   "metadata": {
    "_uuid": "b93a0f469b2b128704e2484e98117143df0676b7"
   },
   "source": [
    "#### 2.1.c Plot the data"
   ]
  },
  {
   "cell_type": "code",
   "execution_count": null,
   "metadata": {
    "_uuid": "889f9efe60a54aafaa6eb61edd01f5eae88d2a3c",
    "scrolled": true
   },
   "outputs": [],
   "source": [
    "# Plotly - one stop for all plots, visualizations, animations etc\n",
    "# Goto: https://plot.ly/python/\n",
    "\n",
    "import plotly\n",
    "plotly.tools.set_credentials_file(username='enter_your_details_here', api_key='8tUzNDbRW7G2wlH4js1P')\n",
    "\n",
    "import plotly.plotly as py\n",
    "import plotly.graph_objs as go\n",
    "\n",
    "x_val = X['size']\n",
    "y_val = X['bedrooms']\n",
    "z_val = y[:]                 \n",
    "\n",
    "line = go.Scatter3d(x=x_val, y=y_val, z=z_val, mode='markers',\n",
    "    marker=dict(\n",
    "        size=12,\n",
    "        line=dict(\n",
    "            color='rgba(217, 217, 217, 0.14)',\n",
    "            width=0.5\n",
    "        ),\n",
    "        opacity=0.8\n",
    "    ))\n",
    "data = [line]\n",
    "\n",
    "\n",
    "layout = go.Layout(\n",
    "    title='Theta values vs Cost values',\n",
    "    scene=dict(\n",
    "        xaxis=dict(\n",
    "            title = 'size',\n",
    "            gridcolor='rgb(255, 255, 255)',\n",
    "            zerolinecolor='rgb(255, 255, 255)',\n",
    "            showbackground=True,\n",
    "            backgroundcolor='rgb(230, 230,230)'\n",
    "        ),\n",
    "        yaxis=dict(\n",
    "            title = 'bedrooms',\n",
    "            gridcolor='rgb(255, 255, 255)',\n",
    "            zerolinecolor='rgb(255, 255, 255)',\n",
    "            showbackground=True,\n",
    "            backgroundcolor='rgb(230, 230,230)'\n",
    "        ),\n",
    "        zaxis=dict(\n",
    "            title = 'price',\n",
    "            gridcolor='rgb(255, 255, 255)',\n",
    "            zerolinecolor='rgb(255, 255, 255)',\n",
    "            showbackground=True,\n",
    "            backgroundcolor='rgb(230, 230,230)'\n",
    "        )\n",
    "    )\n",
    ")\n",
    "\n",
    "fig = go.Figure(data=data, layout=layout)\n",
    "\n",
    "py.iplot(fig, filename='jupyter-parametric_plot')"
   ]
  },
  {
   "cell_type": "markdown",
   "metadata": {
    "_uuid": "27077508a4c1999ee99c3e9e61f8620a0a9626ee"
   },
   "source": [
    "### 2.2 Crux of Linear Regression in multiple variable"
   ]
  },
  {
   "cell_type": "code",
   "execution_count": null,
   "metadata": {
    "_uuid": "976a0565dbe714b5b7caf0404985c76ad57530c1"
   },
   "outputs": [],
   "source": [
    "# How to display images in ipython notebook\n",
    "# Goto: https://stackoverflow.com/questions/11854847/how-can-i-display-an-image-from-a-file-in-jupyter-notebook\n",
    "from IPython.display import Image, display\n",
    "\n",
    "#listOfImageNames = ['C:/Users/saxenapriyansh/Desktop/linear_reg-multivar-basics.PNG',\n",
    "#                    'C:/Users/saxenapriyansh/Desktop/linear_reg-multivar-hypothesis.PNG',\n",
    "#                    'C:/Users/saxenapriyansh/Desktop/linear_reg-multivar-cost_function.PNG',\n",
    "#                    'C:/Users/saxenapriyansh/Desktop/linear_reg-multivar-gradient_descent.PNG',\n",
    "#                    'C:/Users/saxenapriyansh/Desktop/linear_reg-multivar-feature_scaling_and_normalization.PNG',\n",
    "#                    'C:/Users/saxenapriyansh/Desktop/linear_reg-multivar-normal_equation.PNG',\n",
    "#                    'C:/Users/saxenapriyansh/Desktop/linear_reg-multivar-comparision_btw_gradient_descent_and_normal_eqation.PNG',]\n",
    "\n",
    "#for imageName in listOfImageNames:\n",
    "#    display(Image(filename=imageName))\n",
    "#    print(\"--\") "
   ]
  },
  {
   "cell_type": "markdown",
   "metadata": {
    "_uuid": "487865c4b593f6d308476e4474b73c1192dc4685"
   },
   "source": [
    "### 2.3 Algorithm"
   ]
  },
  {
   "cell_type": "markdown",
   "metadata": {
    "_uuid": "b9795dfc7745246945e4ba98f29bbd3ac384dbb0"
   },
   "source": [
    "#### 2.3.a Adding intercept term"
   ]
  },
  {
   "cell_type": "code",
   "execution_count": null,
   "metadata": {
    "_uuid": "97f71fc9080e9ffcc888f691729466e56b2741f0"
   },
   "outputs": [],
   "source": [
    "X = (X - np.mean(X))/np.std(X)\n",
    "\n",
    "X = np.column_stack((X['size'],X['bedrooms']))\n",
    "X = np.hstack((np.full([m,1],1), X))\n",
    "print(X.shape)\n",
    "print(X[:5,:])\n",
    "\n",
    "y = y[:,np.newaxis]\n",
    "print(y.shape)\n",
    "print(y[:5,])"
   ]
  },
  {
   "cell_type": "markdown",
   "metadata": {
    "_uuid": "15726cf6b9c0bb8945694e8b8fc9deec6f50c45f"
   },
   "source": [
    "#### 2.3.b Computing the cost"
   ]
  },
  {
   "cell_type": "code",
   "execution_count": null,
   "metadata": {
    "_uuid": "c45826a6dcb1c607caaa38da7a2a7c1b5ae33a3e"
   },
   "outputs": [],
   "source": [
    "theta = np.full([n,1],0)\n",
    "alpha = 0.01\n",
    "iterations = 50000"
   ]
  },
  {
   "cell_type": "code",
   "execution_count": null,
   "metadata": {
    "_uuid": "640da4cee9be5d1c6815a911c8eb569f3581438a"
   },
   "outputs": [],
   "source": [
    "def computeCost(X, y, theta):\n",
    "    temp = np.dot(X,theta) - y\n",
    "    return np.sum(np.square(temp))/(2*m)\n",
    "J = computeCost(X,y,theta)\n",
    "print(J)"
   ]
  },
  {
   "cell_type": "markdown",
   "metadata": {
    "_uuid": "b889aa04a22bb16efbf0639a9907a41012ee3f07"
   },
   "source": [
    "#### 2.3.c Compute gradient descent"
   ]
  },
  {
   "cell_type": "code",
   "execution_count": null,
   "metadata": {
    "_uuid": "a920fe7fd7e0b42920f803481e18a1030d7d4764"
   },
   "outputs": [],
   "source": [
    "# more about ' - ' : Goto: https://hackernoon.com/understanding-the-underscore-of-python-309d1a029edc\n",
    "def gradientDescent(theta, X, y, aplha, iterations):        \n",
    "    # theta_vals, J_vals stores the intermediate values of theta and J during optimiztion usng gradient descent\n",
    "    theta_vals=np.full([1,n],0)\n",
    "    J_vals = np.full([1],computeCost(X,y,theta))\n",
    "    \n",
    "    for i in range(iterations):\n",
    "        theta = theta - (aplha/m)*np.dot(X.T,(np.dot(X, theta) - y))    \n",
    "        theta_vals = np.vstack((theta_vals,theta.T))\n",
    "        J_vals = np.vstack((J_vals,computeCost(X, y, theta)))\n",
    "    return [theta_vals,J_vals]\n",
    "(theta_vals,J_vals) = gradientDescent(theta, X, y, alpha, iterations)\n",
    "theta = np.reshape(theta_vals[-1],[n,1])\n",
    "# theta after optimizing\n",
    "print(\"Theta: \",theta)"
   ]
  },
  {
   "cell_type": "code",
   "execution_count": null,
   "metadata": {
    "_uuid": "bffec1ea4908b9a5dafe7995b63ccf17a25f9abd"
   },
   "outputs": [],
   "source": [
    "J = computeCost(X, y, theta)\n",
    "print(J)"
   ]
  },
  {
   "cell_type": "code",
   "execution_count": null,
   "metadata": {
    "_uuid": "bfe0de45ecd5721e6349a627c72f56a6553f6648"
   },
   "outputs": [],
   "source": [
    "import plotly.plotly as py\n",
    "import plotly.graph_objs as go\n",
    "\n",
    "# Create a trace\n",
    "trace = go.Scatter(\n",
    "    x = np.arange(1,50002,1),\n",
    "    y = J_vals[:,0]\n",
    ")\n",
    "data = [trace]\n",
    "py.iplot(data, filename='basic-line')"
   ]
  },
  {
   "cell_type": "markdown",
   "metadata": {
    "_uuid": "8088129108063ff95b3a76f6f895c837c4ad01a0"
   },
   "source": [
    "### 3 Normal Equation"
   ]
  },
  {
   "cell_type": "code",
   "execution_count": null,
   "metadata": {
    "_uuid": "f89b4615b519d302f9c3e36dd604432bbb95a438"
   },
   "outputs": [],
   "source": [
    "theta.shape"
   ]
  },
  {
   "cell_type": "code",
   "execution_count": null,
   "metadata": {
    "_uuid": "bc08e48ed35cf3a3d26b133643547aea307a4fcb"
   },
   "outputs": [],
   "source": [
    "# Goto: https://youtu.be/N4d_9GQ9QFc\n",
    "# https://eli.thegreenplace.net/2014/derivation-of-the-normal-equation-for-linear-regression\n",
    "\n",
    "theta_n = np.dot(np.linalg.inv(np.dot(X.T,X)),np.dot(X.T,y))\n",
    "print(theta_n)"
   ]
  },
  {
   "cell_type": "code",
   "execution_count": null,
   "metadata": {
    "_uuid": "cd85db09526c4d64dac182883f7bb0585991f693"
   },
   "outputs": [],
   "source": [
    "J = computeCost(X ,y,theta_n)\n",
    "J"
   ]
  },
  {
   "cell_type": "markdown",
   "metadata": {
    "_uuid": "0ab643343049670c3438bca3c1a7cfd22c98163e"
   },
   "source": [
    "## 4 Sklearn"
   ]
  },
  {
   "cell_type": "code",
   "execution_count": null,
   "metadata": {
    "_uuid": "5bf99253d4bdfb788ae33ac9047bea023146bf8a"
   },
   "outputs": [],
   "source": [
    "df = pd.read_csv('dataset/week_2-ex_1.txt',header=None,names=('size','bedrooms','price(in $)'))\n",
    "X = df.iloc[:,0:2]\n",
    "y = df.iloc[:,2]\n",
    "m=df.shape[0]  # number of examples\n",
    "n=df.shape[1]  # number of features"
   ]
  },
  {
   "cell_type": "code",
   "execution_count": null,
   "metadata": {
    "_uuid": "ee33826e8fad7fee9fc6d8c5e0c9dae50f2b4a64"
   },
   "outputs": [],
   "source": [
    "from sklearn.linear_model import LinearRegression\n",
    "reg = LinearRegression()\n",
    "reg.fit(X,y)\n",
    "print(reg.score(X,y))\n",
    "print(reg.get_params())"
   ]
  },
  {
   "cell_type": "code",
   "execution_count": null,
   "metadata": {
    "_uuid": "5a02759f31f8c6f65d30812f77abaa5dad9addf9"
   },
   "outputs": [],
   "source": [
    "# finding the cost\n",
    "y_pred = reg.predict(X)\n",
    "def computeCost(y_pred, y_true):\n",
    "    return np.sum(np.square(y_pred - y_true))/(2*m)\n",
    "    \n",
    "J = computeCost(y_pred, y)\n",
    "print(J)"
   ]
  },
  {
   "cell_type": "code",
   "execution_count": null,
   "metadata": {
    "_uuid": "98aecbb1560bbd541624acaa5749b6be7ecd3639"
   },
   "outputs": [],
   "source": []
  }
 ],
 "metadata": {
  "kernelspec": {
   "display_name": "Python 3",
   "language": "python",
   "name": "python3"
  },
  "language_info": {
   "codemirror_mode": {
    "name": "ipython",
    "version": 3
   },
   "file_extension": ".py",
   "mimetype": "text/x-python",
   "name": "python",
   "nbconvert_exporter": "python",
   "pygments_lexer": "ipython3",
   "version": "3.7.0"
  }
 },
 "nbformat": 4,
 "nbformat_minor": 1
}
