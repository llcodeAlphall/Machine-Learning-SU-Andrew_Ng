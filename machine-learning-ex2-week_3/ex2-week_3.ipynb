{
 "cells": [
  {
   "cell_type": "markdown",
   "metadata": {
    "_uuid": "3eb28b8d31a8a5992e6efad655a14ed7299fc21a"
   },
   "source": [
    "## ML:Logistic Regression"
   ]
  },
  {
   "cell_type": "code",
   "execution_count": null,
   "metadata": {
    "_uuid": "fb75109c65db2133981156d6c79988722a81cefd"
   },
   "outputs": [],
   "source": [
    "#Now we are switching from regression problems to classification problems. \n",
    "#Don't be confused by the name \"Logistic Regression\"; it is named that way for \n",
    "#historical reasons and is actually an approach to classification problems, not regression problems.\n",
    "\n",
    "#for more info on naming convention \n",
    "# Goto: https://www.graphpad.com/guides/prism/7/curve-fitting/index.htm?reg_the_term_logistic.htm"
   ]
  },
  {
   "cell_type": "code",
   "execution_count": null,
   "metadata": {
    "_uuid": "698f646b919fa78160d7a171dc599e483fc86042"
   },
   "outputs": [],
   "source": [
    "import os\n",
    "print(os.listdir(\"../\"))"
   ]
  },
  {
   "cell_type": "code",
   "execution_count": null,
   "metadata": {
    "_uuid": "65ad4351117e61da5cea8bc997e3a2d773c9fa0c"
   },
   "outputs": [],
   "source": [
    "import pandas as pd\n",
    "import numpy as np\n",
    "import warnings\n",
    "warnings.filterwarnings('ignore')\n",
    "import matplotlib.pyplot as plt\n",
    "\n",
    "import plotly\n",
    "plotly.tools.set_credentials_file(username='enter_your_details_here', api_key='8tUzNDbRW7G2wlH4js1P')\n",
    "import plotly.plotly as py\n",
    "import plotly.graph_objs as go"
   ]
  },
  {
   "cell_type": "code",
   "execution_count": null,
   "metadata": {
    "_uuid": "7643bd68cccb9d3208079a7b35744a5846bd01ed"
   },
   "outputs": [],
   "source": [
    "df = pd.read_csv('dataset/week_3-ex_2.txt',header=None,names=('Exam 1 score','Exam 2 score','Status'))"
   ]
  },
  {
   "cell_type": "code",
   "execution_count": null,
   "metadata": {
    "_uuid": "973dabf3aa6894ebea0736152aaacf86dc310d74"
   },
   "outputs": [],
   "source": [
    "print(df.head())\n",
    "print(df.keys())\n",
    "print(df.shape)\n",
    "m, n = df.shape"
   ]
  },
  {
   "cell_type": "code",
   "execution_count": null,
   "metadata": {
    "_uuid": "bb8d69da6d97879f287bc920d317c9217ee17fde"
   },
   "outputs": [],
   "source": [
    "X = df.iloc[:,0:2]\n",
    "y = df.iloc[:,2]\n",
    "print(X.head())\n",
    "print(y.head())\n",
    "print(type(X))\n",
    "print(type(y))"
   ]
  },
  {
   "cell_type": "code",
   "execution_count": null,
   "metadata": {
    "_uuid": "14078fcce040a9186ecaba18bd1667049b2783eb"
   },
   "outputs": [],
   "source": [
    "admitted = np.where(y[:] == 1)\n",
    "not_admitted = np.where(y[:] == 0)\n",
    "\n",
    "print(type(admitted))\n",
    "print(admitted)"
   ]
  },
  {
   "cell_type": "code",
   "execution_count": null,
   "metadata": {
    "_uuid": "01b61786fc58ec394a393ffcb1adc4c77fa4928c"
   },
   "outputs": [],
   "source": [
    "# Create a trace\n",
    "trace1 = go.Scatter(\n",
    "    x = X['Exam 1 score'].iloc[admitted],\n",
    "    y = X['Exam 2 score'].iloc[admitted],\n",
    "    name = 'Admitted',  \n",
    "    marker={'color': 'blue', 'symbol': 100},\n",
    "    mode = 'markers',\n",
    ")\n",
    "\n",
    "trace2 = go.Scatter(\n",
    "    x = X['Exam 1 score'].iloc[not_admitted],\n",
    "    y = X['Exam 2 score'].iloc[not_admitted],\n",
    "    name = 'Not Admitted',   \n",
    "    marker={'color': 'red', 'symbol': 104},\n",
    "    mode = 'markers'\n",
    "   \n",
    ")\n",
    "#data = [trace1,trace2]\n",
    "\n",
    "# Plot and embed in ipython notebook!\n",
    "#py.iplot(data, filename='basic-scatter')\n",
    "\n",
    "\n",
    "data=go.Data([trace1,trace2])\n",
    "layout=go.Layout(title=\"Admission statistics\", xaxis={'title':'Exam 1 score'}, yaxis={'title':'Exam 2 score'})\n",
    "figure=go.Figure(data=data,layout=layout)\n",
    "py.iplot(figure, filename='pyguide_1')"
   ]
  },
  {
   "cell_type": "code",
   "execution_count": null,
   "metadata": {
    "_uuid": "c2ae71662fdc6bdc0c39b8c01b2868d1dc7688a5"
   },
   "outputs": [],
   "source": [
    "def sigmoid(z):\n",
    "    return 1/(1+np.exp(-z))\n",
    "\n",
    "# np.exp is already vectorized function\n",
    "# for more info \n",
    "# Goto: https://stackoverflow.com/questions/42594695/how-to-apply-a-function-map-values-of-each-element-in-a-2d-numpy-array-matrix?rq=1"
   ]
  },
  {
   "cell_type": "code",
   "execution_count": null,
   "metadata": {
    "_uuid": "dbbc09de5c7175e73259f99fe17cc7d62cb0c59b"
   },
   "outputs": [],
   "source": [
    "X = np.column_stack((X['Exam 1 score'],X['Exam 2 score']))\n",
    "X = np.hstack((np.full([m,1],1), X))\n",
    "y = y[:,np.newaxis]\n",
    "# Goto: https://stackoverflow.com/questions/29241056/how-does-numpy-newaxis-work-and-when-to-use-it\n",
    "print(type(X))\n",
    "print(X.shape)\n",
    "\n",
    "print(type(y))\n",
    "print(y.shape)\n",
    "\n",
    "theta = np.full([(n-1)+1, 1],0)\n",
    "print(theta.shape)\n",
    "theta = np.array([[-24], [0.2], [0.2]])"
   ]
  },
  {
   "cell_type": "markdown",
   "metadata": {
    "_uuid": "1e622e24c5b30f63bd7d769dde3a987ff975c439"
   },
   "source": [
    "### Cost function"
   ]
  },
  {
   "cell_type": "code",
   "execution_count": null,
   "metadata": {
    "_uuid": "8513a1f25fe6c4bdd745696a41c46f0f24ba23ef"
   },
   "outputs": [],
   "source": [
    "def computeCost(X, y, theta):    \n",
    "    h = sigmoid(np.dot(X, theta))    \n",
    "    return (-1)*(np.dot(y.T,np.log(h)) + np.dot(1-y.T,np.log(1-h)))/m"
   ]
  },
  {
   "cell_type": "code",
   "execution_count": null,
   "metadata": {
    "_uuid": "29493b151faf3b2ed810dfdc485ef630d7eac1f0"
   },
   "outputs": [],
   "source": [
    "# initial cost\n",
    "computeCost(X,y,theta)"
   ]
  },
  {
   "cell_type": "markdown",
   "metadata": {
    "_uuid": "da9daee39b6eec947e24159506d6bf9707ce7ee8"
   },
   "source": [
    "### Gradient Descent"
   ]
  },
  {
   "cell_type": "code",
   "execution_count": null,
   "metadata": {
    "_uuid": "f3db94609f6fad73b3afc6d431e7a8285764fc4b"
   },
   "outputs": [],
   "source": [
    "def gradientDescent(theta, X, y, alpha, iterations):\n",
    "    \n",
    "    # theta_vals, J_vals stores the intermediate values of theta and J during optimiztion usng gradient descent\n",
    "    theta_vals=np.full([1,n],0)\n",
    "    J_vals = np.full([1],computeCost(X,y,theta))\n",
    "    \n",
    "    for _ in range(iterations):        \n",
    "        theta = theta - (alpha/m)*(np.dot(X.T, (sigmoid(np.dot(X, theta)) - y)))\n",
    "        theta_vals = np.vstack((theta_vals,theta.T))\n",
    "        J_vals = np.vstack((J_vals,computeCost(X, y, theta)))\n",
    "    return [theta_vals,J_vals]\n",
    "\n",
    "(theta_vals,J_vals) = gradientDescent(theta, X, y, 0.1,400000)\n",
    "theta = np.reshape(theta_vals[-1],[n,1])\n",
    "print(\"Theta: \",theta)\n",
    "print(computeCost(X, y, theta))"
   ]
  },
  {
   "cell_type": "code",
   "execution_count": null,
   "metadata": {
    "_uuid": "f01b7586471114c47c2b707cc481da669709c567",
    "collapsed": true
   },
   "outputs": [],
   "source": [
    "# print the decision boundary\n",
    "positives = np.where(y[:,0] == 1);\n",
    "negatives = np.where(y[:,0] == 0);\n",
    "plt.scatter(X[positives,1], X[positives,2], marker='+', label='Admitted')\n",
    "plt.scatter(X[negatives,1], X[negatives,2], marker='o', label='Not admitted')\n",
    "px = np.array([np.min(X[:,1])-2, np.max(X[:,2])+2])\n",
    "py = (-1 / theta[2]) * (theta[1]*px + theta[0])\n",
    "plt.plot(px, py)\n",
    "plt.xlabel('Exam 1 score')\n",
    "plt.ylabel('Exam 2 score')\n",
    "plt.legend()\n",
    "plt.show()"
   ]
  },
  {
   "cell_type": "code",
   "execution_count": null,
   "metadata": {
    "_uuid": "2ca5e84963864e9b8f46c26cf8ebc655d1f022c7"
   },
   "outputs": [],
   "source": [
    "a=np.array([1,45,85])\n",
    "b=sigmoid(np.dot(a,theta))\n",
    "b"
   ]
  },
  {
   "cell_type": "code",
   "execution_count": null,
   "metadata": {
    "_uuid": "1b667a13f1bb3e6d3ecf03b6bace0faa15026a24"
   },
   "outputs": [],
   "source": []
  }
 ],
 "metadata": {
  "kernelspec": {
   "display_name": "Python 3",
   "language": "python",
   "name": "python3"
  },
  "language_info": {
   "codemirror_mode": {
    "name": "ipython",
    "version": 3
   },
   "file_extension": ".py",
   "mimetype": "text/x-python",
   "name": "python",
   "nbconvert_exporter": "python",
   "pygments_lexer": "ipython3",
   "version": "3.7.0"
  }
 },
 "nbformat": 4,
 "nbformat_minor": 1
}
